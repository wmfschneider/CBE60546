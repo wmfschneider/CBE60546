{
 "cells": [
  {
   "cell_type": "markdown",
   "metadata": {
    "id": "SVEePptPY9_f"
   },
   "source": [
    "# ND CBE 60546, Advanced Chemical Reaction Engineering, Fall 2025 \n",
    "## Homework 1\n",
    "## Due September 3, 2025\n",
    "Start by sketching out problem and solution approach on paper. If you can solve the problem by hand, do so *neatly*, and either scan your solution and embed the image in your noteback or type the solution into the cell. Otherwise, create python code to solve the problem. Name your variables using meaningful names and liberally comment the solution. Use pyplot or similar package for all plots."
   ]
  },
  {
   "cell_type": "markdown",
   "metadata": {
    "id": "2ySss-FmY9_n"
   },
   "source": [
    "# All in balance\n",
    "## One way under consideration for removing harmful \"$\\ce{NO_x}$\" (NO + $\\ce{NO2}$) from flue gas is the thermal deNOx process, in which $\\ce{NH3}$ is used to reduce the NO to $\\ce{N2}$:\n",
    "\n",
    "$\\ce{NO(g) + NH3(g) + O2(g)  -> N2(g) + H2O(g)}$\n",
    "\n",
    "## The research lab has several gas tanks available to study this reaction, including one containing 2.0% NO in $\\ce{N2}$. You can assume all gases behave ideally."
   ]
  },
  {
   "cell_type": "markdown",
   "metadata": {},
   "source": [
    "### A number of atoms are changing oxidation state in the thermal deNOx reaction. Specify the oxidation states of each atom in each moleculue."
   ]
  },
  {
   "cell_type": "code",
   "execution_count": null,
   "metadata": {},
   "outputs": [],
   "source": [
    "# Answer here"
   ]
  },
  {
   "cell_type": "markdown",
   "metadata": {},
   "source": [
    "### What type of reaction is this?"
   ]
  },
  {
   "cell_type": "code",
   "execution_count": 2,
   "metadata": {},
   "outputs": [],
   "source": [
    "# Answer here"
   ]
  },
  {
   "cell_type": "markdown",
   "metadata": {
    "id": "m1-9_nmJY9_p"
   },
   "source": [
    "### Balance the thermal deNOx reaction, assuming each NH<sub>3</sub> titrates one NO."
   ]
  },
  {
   "cell_type": "code",
   "execution_count": null,
   "metadata": {
    "id": "WfLQ4m0pY9_q"
   },
   "outputs": [],
   "source": [
    "# Answer here"
   ]
  },
  {
   "cell_type": "markdown",
   "metadata": {
    "id": "0IR_1w1hY9_r"
   },
   "source": [
    "### What mass flow rates are necessary to create a stoichiometric mixture at 1 bar total pressure, $400^\\circ$C, and 10 liter/s total volumetric flow rate?"
   ]
  },
  {
   "cell_type": "markdown",
   "metadata": {
    "id": "rcTGyvi_Y9_t"
   },
   "source": [
    "# Answer here"
   ]
  },
  {
   "cell_type": "markdown",
   "metadata": {
    "id": "JiXUUWRkY9_u"
   },
   "source": [
    "### Plot the molar flow rates of all five gases as a function of reaction advancement."
   ]
  },
  {
   "cell_type": "code",
   "execution_count": null,
   "metadata": {
    "id": "TqZipL1TY9_w"
   },
   "outputs": [],
   "source": [
    "# Answer here"
   ]
  },
  {
   "cell_type": "markdown",
   "metadata": {
    "id": "wjkl5m5hY9_y"
   },
   "source": [
    "### Plot the total volumetric flow rate as a function of reaction advancement."
   ]
  },
  {
   "cell_type": "code",
   "execution_count": null,
   "metadata": {
    "id": "rMBVJHQ1Y9_z"
   },
   "outputs": [],
   "source": [
    "# Answer here"
   ]
  },
  {
   "cell_type": "markdown",
   "metadata": {
    "id": "3QZZtYymY9_z"
   },
   "source": [
    "# NH<sub>3</sub> oxidation is an undesirable side-reaction of thermal deNOx:\n",
    "\n",
    "$\\ce{NH3(g) + O2(g) -> NO(g) + H2O(g)}$"
   ]
  },
  {
   "cell_type": "markdown",
   "metadata": {
    "id": "2RpAmR_oY9_0"
   },
   "source": [
    "### Balance the $\\ce{NH3}$ oxidation reaction."
   ]
  },
  {
   "cell_type": "code",
   "execution_count": null,
   "metadata": {
    "id": "zegx_9maY9_0"
   },
   "outputs": [],
   "source": [
    "# Answer here"
   ]
  },
  {
   "cell_type": "markdown",
   "metadata": {
    "id": "4Ht9_hlrY9_1"
   },
   "source": [
    "### Under the stoichiometric conditions described above, the reactor generates 0.036 g/s NO and 0.017 g/s $\\ce{N2}$. How effectively is the $\\ce{NH3}$ being used for thermal deNOx? (*Hint:* What are the advancements of the two reactions?)"
   ]
  },
  {
   "cell_type": "code",
   "execution_count": null,
   "metadata": {
    "id": "F7S0j44AY9_1"
   },
   "outputs": [],
   "source": [
    "# Answer here"
   ]
  },
  {
   "cell_type": "markdown",
   "metadata": {
    "id": "Hi_vFAJWY9_1"
   },
   "source": [
    "# NOx, NOx, who's there?\n",
    "## A simpler and confounding reaction $\\ce{NO}$ is it's oxidation to $\\ce{NO2}$:\n",
    "\n",
    "$\\ce{NO(g) + O2(g) -> NO2(g)}$\n",
    "\n",
    "## You can assume all gases behave ideally under the conditions considered in this problem."
   ]
  },
  {
   "cell_type": "markdown",
   "metadata": {
    "id": "wF4-yfHBY9_2"
   },
   "source": [
    "### Determine $\\Delta H^\\circ(298~\\text{K})$, $\\Delta S^\\circ(298~\\text{K})$, $\\Delta G^\\circ(298~\\text{K})$, and $K_p(298~\\text{K})$ for the NO oxidation reaction (Don't forget to balance it first!). Be sure to specify your source and the standard state."
   ]
  },
  {
   "cell_type": "code",
   "execution_count": null,
   "metadata": {
    "id": "Cjx_wmiJY9_2"
   },
   "outputs": [],
   "source": [
    "# Answer here"
   ]
  },
  {
   "cell_type": "markdown",
   "metadata": {
    "id": "EGaRtTrBY9_2"
   },
   "source": [
    "### Calculate the equilibrium partial pressure ratio of $\\ce{NO2}$ to $\\ce{NO}$ in the atomosphere near the surface of the earth. Assume the mixing ratio of $\\ce{O2}$ to be 0.2 and a temperature of $25^\\circ$C."
   ]
  },
  {
   "cell_type": "code",
   "execution_count": null,
   "metadata": {
    "id": "KwbL5tDNY9_3"
   },
   "outputs": [],
   "source": [
    "# Answer here"
   ]
  },
  {
   "cell_type": "markdown",
   "metadata": {
    "id": "b66tB7P0Y9_3"
   },
   "source": [
    "### From standard compilations and at 1 atm standard state, $\\Delta H^\\circ(250~\\mathrm{K}) = -116.532~\\mathrm{kJ~mol^{-1}}$ and $\\Delta S^\\circ(250~\\mathrm{K}) = -152.179~\\mathrm{J/mol/K}$. Use the van't Hoff relationship to plot $\\Delta G^\\circ(T)$ vs $T$ from room temperature to $1000^\\circ$C. Add a point on your plot for the $\\Delta G^\\circ(298~\\mathrm{K})$ you found from a tabulation."
   ]
  },
  {
   "cell_type": "code",
   "execution_count": null,
   "metadata": {
    "id": "Nlyi3NANY9_3"
   },
   "outputs": [],
   "source": [
    "# Answer here"
   ]
  },
  {
   "cell_type": "markdown",
   "metadata": {
    "id": "dXnFxXG9Y9_3"
   },
   "source": [
    "### NO oxidation is catalyzed over diesel oxidation catalysts (DOCs) on diesel vehicles. Plot the equilibrium conversion of $\\ce{NO}$ to $\\ce{NO2}$ vs $T$ from room temperature to $1000^\\circ$C for an isobaric 1 atm reactor presented with 0.1% NO and 5% $\\ce{O2}$, and balance $\\ce{N2}$."
   ]
  },
  {
   "cell_type": "code",
   "execution_count": null,
   "metadata": {
    "id": "Gk-coSAyY9_4"
   },
   "outputs": [],
   "source": [
    "# Answer here"
   ]
  },
  {
   "cell_type": "code",
   "execution_count": null,
   "metadata": {},
   "outputs": [],
   "source": []
  }
 ],
 "metadata": {
  "colab": {
   "include_colab_link": true,
   "name": "Homework_1.ipynb",
   "provenance": []
  },
  "kernelspec": {
   "display_name": "Python [conda env:base] *",
   "language": "python",
   "name": "conda-base-py"
  },
  "language_info": {
   "codemirror_mode": {
    "name": "ipython",
    "version": 3
   },
   "file_extension": ".py",
   "mimetype": "text/x-python",
   "name": "python",
   "nbconvert_exporter": "python",
   "pygments_lexer": "ipython3",
   "version": "3.11.11"
  }
 },
 "nbformat": 4,
 "nbformat_minor": 4
}
