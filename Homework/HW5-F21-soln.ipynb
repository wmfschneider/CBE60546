{
  "cells": [
    {
      "cell_type": "markdown",
      "metadata": {
        "id": "bJHo5qvTzUC4"
      },
      "source": [
        "# Advanced Chemical Reaction Engineering (CBE 60546)\n",
        "## Homework 5\n",
        "## Due October 12, 2021"
      ]
    },
    {
      "cell_type": "markdown",
      "metadata": {
        "id": "gxBa_tQVzUC8"
      },
      "source": [
        "**Carefully and neatly document your answers. You may use a mathematical solver like Jupyter/iPython. Use plotting software for all plots.**"
      ]
    },
    {
      "cell_type": "markdown",
      "metadata": {
        "id": "Qf9C--oQzUC9"
      },
      "source": [
        "$$\\require{mhchem}$$"
      ]
    },
    {
      "cell_type": "markdown",
      "metadata": {
        "id": "mg6utOz1zUC-"
      },
      "source": [
        "# 1 Looking only at the surface\n",
        "One method of determining the surface area of Pt catalysts is by surface titration with $\\ce{H2}$. $\\ce{H2}$ is thought to adsorb dissociatively, one H atom per surface Pt:\n",
        "\n",
        "$\\ce{H2 + 2∗ <=> 2 H∗}$"
      ]
    },
    {
      "cell_type": "markdown",
      "metadata": {
        "id": "YSj-mqRnzUC-"
      },
      "source": [
        "### 1.1 Derive the Langmuir isotherm for dissociative adsorption of $\\ce{H2}$."
      ]
    },
    {
      "cell_type": "code",
      "execution_count": null,
      "metadata": {
        "id": "Lh2SYUn9zUC_"
      },
      "outputs": [],
      "source": [
        "# Answer Here"
      ]
    },
    {
      "cell_type": "markdown",
      "metadata": {
        "id": "offs0nXIzwFG"
      },
      "source": [
        "$\\ce{H2 + 2∗ <=>[k_a][k_{-a}] 2 H∗}$ \\\n",
        "The net rate of adsorption can then be expressed as: \\\n",
        "$r = k_aP_{H_2}C_*^2 - k_{-a}C_{H*}^2$ \\\n",
        "$K_a = k_a/k_{-a}$, $\\theta_* = 1 - \\theta_{H*}$ \\\n",
        "At equilibrium, $r$ = 0: \\\n",
        "$k_aP_{H_2}C_*^2 = k_{-a}C_{H*}^2$ \\\n",
        "$K_aP_{H_2} = \\theta_{H*}^2/(1-\\theta_{H*})^2$ \\\n",
        "Langmuir isotherm for dissociative adsorption of $\\ce{H2}$: $\\theta_{H*} = (K_aP_{H_2})^{1/2}/(1 + (K_aP_{H_2})^{1/2})$, $K_a = k_a/k_{-a}$"
      ]
    },
    {
      "cell_type": "markdown",
      "metadata": {
        "id": "nsbi7zcVFHtY"
      },
      "source": [
        "### 1.2 The data below were obtained for isothermal $\\ce{H2}$ chemisorption on a 3% (w/w) Pt catalyst supported on γ-alumina (nominally $\\ce{Al2O3}$). Does the data conform to a dissociative Langmuir adsorption model?\n",
        "\n",
        "| Pressure (bar) | mass $\\ce{H2}$/catalyst (${\\mu}$g g$^{-1}$)  |\n",
        "|----------------|----------------------------------------------------|\n",
        "|     0.0759     |                        1.30                        |\n",
        "|     0.152      |                        1.82                        |\n",
        "|     0.228      |                        2.30                        |\n",
        "|     0.304      |                        2.44                        |\n",
        "|     0.378      |                        2.55                        |\n",
        "|     1.518      |                        4.51                        |\n",
        "|     1.896      |                        4.59                        |\n",
        "|     2.276      |                        4.95                        |\n",
        "|     2.662      |                        5.21                        |\n",
        "|     3.035      |                        5.35                        |\n",
        "|     3.408      |                        5.50                        |\n",
        "|     3.781      |                        5.65                        |\n"
      ]
    },
    {
      "cell_type": "code",
      "execution_count": null,
      "metadata": {
        "id": "iTRz9v6jFHta"
      },
      "outputs": [],
      "source": [
        "# Answer Here"
      ]
    },
    {
      "cell_type": "code",
      "execution_count": null,
      "metadata": {
        "colab": {
          "base_uri": "https://localhost:8080/",
          "height": 327
        },
        "id": "tTml6AydTOPs",
        "outputId": "cf1afc42-4037-46e4-a634-bafa2c3da631"
      },
      "outputs": [
        {
          "name": "stdout",
          "output_type": "stream",
          "text": [
            "R^2 : 0.9089871491080183\n"
          ]
        },
        {
          "name": "stderr",
          "output_type": "stream",
          "text": [
            "/var/folders/ws/sb9x3c5j7m5f4t70mq80mlrc0000gp/T/ipykernel_91429/3093961905.py:27: RuntimeWarning: invalid value encountered in sqrt\n",
            "  return (P*K)**0.5/(1+(K*P)**0.5)\n"
          ]
        },
        {
          "data": {
            "image/png": "[encoded data removed]",
            "text/plain": [
              "<Figure size 432x288 with 1 Axes>"
            ]
          },
          "metadata": {
            "needs_background": "light"
          },
          "output_type": "display_data"
        }
      ],
      "source": [
        "# assume there is only 1 g catalyst, so it has 0.03 g Pt catalyst\n",
        "# use non-linear curve fit\n",
        "\n",
        "import numpy as np\n",
        "import matplotlib.pyplot as plt\n",
        "from scipy.optimize import curve_fit\n",
        "from sklearn.metrics import r2_score\n",
        "\n",
        "Pressure=np.array([0.0759,0.152,0.228,0.304,0.378,1.518,1.896,2.276,\n",
        "                   2.662,3.035,3.408,3.781])\n",
        "H2mass=np.array([1.3,1.82,2.30,2.44,2.55,4.51,4.59,4.95,5.21,5.35,\n",
        "                   5.5,5.65])\n",
        "\n",
        "Pt_atomic_weight = 195.084 # Pt atomic weight\n",
        "H2_weight = 2 # H atomic weight\n",
        "\n",
        "n_total = 0.03/Pt_atomic_weight  # total number of mole of Pt\n",
        "H2_coverage = H2mass/10**6/H2_weight/n_total # H2 coverage\n",
        "\n",
        "# plot H2 coverage vs pressure\n",
        "plt.scatter(Pressure,H2_coverage,label='Experiment Data')\n",
        "plt.xlabel('Pressure (bar)',fontsize=25)\n",
        "plt.ylabel('$\\\\theta$',fontsize=25)\n",
        "\n",
        "# non-linear curve fit to get K value.\n",
        "def func(P,K):\n",
        "    return (P*K)**0.5/(1+(K*P)**0.5)\n",
        "popt, pcov = curve_fit(func,Pressure,H2_coverage)\n",
        "#print(popt)\n",
        "\n",
        "# then substitute K value back to function and use same pressure to get predict coverage.\n",
        "plt.plot(Pressure, func(Pressure, *popt),color='r',label = 'fit')\n",
        "plt.legend()\n",
        "print('R^2 :',r2_score(H2_coverage,func(Pressure, *popt)))"
      ]
    },
    {
      "cell_type": "markdown",
      "metadata": {
        "id": "c5IX52cMz7QJ"
      },
      "source": [
        "### This plot shows clear systematic deviation from a Langmuir isotherm."
      ]
    },
    {
      "cell_type": "markdown",
      "metadata": {
        "id": "qiNSBPs3zUDA"
      },
      "source": [
        "# 2 Too hot to stick\n",
        "Temperature-programmed desorption (TPD) is a common way to explore the kinetics of desorption of gases from solid surfaces. Bray et al explored models for the associative desorption of $\\ce{O2}$ from a Pt(111) surface, a process that has an activation barrier that depends on the coverage (http://dx.doi.org/10.1016/j.susc.2013.12.005):\n",
        "\n",
        "$\\ce{2 O∗ ->[k(θ)] O2(g) + 2 ∗}$\n",
        "\n",
        "Bray used a desorption prefactor of about 1$\\times$10$^{14}$s$^{-1}$ and found the desorption activation energy to depend approximately linearly on oxygen coverage, from 2.5 eV at zero coverage to 2.1 eV at 0.3 ML."
      ]
    },
    {
      "cell_type": "markdown",
      "metadata": {
        "id": "Nd-_xxo9FHtb"
      },
      "source": [
        "### 2.1 Plot (on one graph) the $\\ce{O2}$ desorption rate vs temperature, starting from 0.0073, 0.093, 0.164, 0.194, and 0.5 ML O and using a temperature ramp rate of 8 Ks$^{-1}$."
      ]
    },
    {
      "cell_type": "code",
      "execution_count": null,
      "metadata": {
        "id": "Cv0dYRczzUDB"
      },
      "outputs": [],
      "source": [
        "# Answer Here"
      ]
    },
    {
      "cell_type": "markdown",
      "metadata": {
        "id": "kb69R0obHNbP"
      },
      "source": [
        "Desorption rate expression is :\n",
        "\n",
        "$$r_\\mathrm{Des}=-\\frac{\\partial \\theta}{\\partial T}={\\nu *\\theta ^2}*\\exp \\left( \\frac{-{E}(\\theta)}{k_\\mathrm{B} T} \\right)$$\n",
        "\n",
        "$\\nu$ is prefactor \\\n",
        "$\\theta$ has order 2 because this is secondary order desorption\\\n",
        "$E(\\theta)$ is activation energy\\\n",
        "$k_{b}$ is boltzmann constant\\\n",
        "T is temperature related with time t and ramp rate $\\beta$\n",
        "$$T = T_{0}+\\beta t$$\n",
        "In here, we use Euler method to integrate forward. [Euler Method](https://en.wikipedia.org/wiki/Euler_method)"
      ]
    },
    {
      "cell_type": "code",
      "execution_count": null,
      "metadata": {
        "colab": {
          "base_uri": "https://localhost:8080/",
          "height": 683
        },
        "id": "SbgPxcRzz9hU",
        "outputId": "7d04e6f8-9fe1-416b-916c-ddc1853543a9"
      },
      "outputs": [
        {
          "data": {
            "image/png": "[encoded data removed]",
            "text/plain": [
              "<Figure size 360x360 with 1 Axes>"
            ]
          },
          "metadata": {
            "needs_background": "light"
          },
          "output_type": "display_data"
        },
        {
          "data": {
            "image/png": "[encoded data removed]",
            "text/plain": [
              "<Figure size 360x360 with 1 Axes>"
            ]
          },
          "metadata": {
            "needs_background": "light"
          },
          "output_type": "display_data"
        }
      ],
      "source": [
        "# y= -(4/3)*x +2.5  Ea expression\n",
        "\n",
        "import numpy as np\n",
        "import matplotlib.pyplot as plt\n",
        "from scipy.optimize import curve_fit\n",
        "\n",
        "theta = [0.073,0.093,0.164,0.194,0.5] # unit (ML) \n",
        "miu = 10**(14)       # unit (/s)\n",
        "beta = 8             # unit (K/s)\n",
        "Kb = 8.6173*10**(-5)# unit(ev/k)\n",
        "h = 0.1               # step size\n",
        "t = np.arange(0,110,h)  # time \n",
        "rate = np.zeros(len(t))\n",
        "Cov = np.zeros(len(t)) # coverage\n",
        "\n",
        "for item in theta:                    # in this loop, first compute coverage vs T, then compute d(theta)/dt vs T to get rate\n",
        "     \n",
        "    Theta=np.zeros(len(t))\n",
        "    T=np.zeros(len(t))\n",
        "    T[0]=400    # set initial T is 400K\n",
        "\n",
        "    Theta[0]= item\n",
        "    E=np.zeros(len(t)) # create np array for save activation energy\n",
        "\n",
        "    for j in range(len(t)-1):\n",
        "        T[j+1]=T[0]+ beta*t[j+1]    # temperature change with time and ramp rate\n",
        "        E[j]= (4/3)*Theta[j]-2.5   \n",
        "        \n",
        "        Theta[j+1]=Theta[j]-h*(miu*Theta[j]**2)*np.exp(E[j]/(Kb*T[j])) # use Euler method compute theta at different T\n",
        "    \n",
        "    Cov = np.c_[Cov,Theta]  # add one coloum 'Theta' to Cov\n",
        "    \n",
        "    Rdes=np.zeros(len(t))\n",
        "    for k in range (len(t)):\n",
        "        Rdes[k]= (miu*Theta[k]**2)*np.exp(E[k]/(Kb*T[k])) # after get coverage vs T, we can compute rate use equation at each T\n",
        "    \n",
        "    rate =np.c_[rate,Rdes]\n",
        "\n",
        "# plot Coverage vs T for different intial converage\n",
        "plt.figure(figsize=(5,5)) \n",
        "plt.plot(T,Cov[:,1],label='$\\\\theta=0.073 ML$',linewidth=4.0)\n",
        "plt.plot(T,Cov[:,2],label='$\\\\theta=0.093 ML$',linewidth=4.0)\n",
        "plt.plot(T,Cov[:,3],label='$\\\\theta=0.164 ML$',linewidth=4.0)\n",
        "plt.plot(T,Cov[:,4],label='$\\\\theta=0.194 ML$',linewidth=4.0)\n",
        "plt.plot(T,Cov[:,5],label='$\\\\theta=0.5 ML$',linewidth=4.0)\n",
        "\n",
        "plt.ylabel('$\\\\theta(ML)$',fontsize=25)\n",
        "plt.xlabel('Temperature (K)',fontsize=25)\n",
        "plt.legend(loc = 'upper right',prop={'size': 12})\n",
        "plt.show()\n",
        "\n",
        "# plot rate vs T for different intial converage\n",
        "plt.figure(figsize=(5,5))        \n",
        "plt.plot(T,rate[:,1],label='$\\\\theta=0.073 ML$',linewidth=4.0)\n",
        "plt.plot(T,rate[:,2],label='$\\\\theta=0.093 ML$',linewidth=4.0)\n",
        "plt.plot(T,rate[:,3],label='$\\\\theta=0.164 ML$',linewidth=4.0)\n",
        "plt.plot(T,rate[:,4],label='$\\\\theta=0.194 ML$',linewidth=4.0)\n",
        "plt.plot(T,rate[:,5],label='$\\\\theta=0.5 ML$',linewidth=4.0)\n",
        "\n",
        "plt.ylabel('Rate(ML/s)',fontsize=25)\n",
        "plt.xlabel('Temperature (K)',fontsize=25)\n",
        "plt.ylim(0,0.02)\n",
        "plt.xlim(350,1200)\n",
        "plt.legend(loc = 'upper right',prop={'size': 12})\n",
        "plt.show()"
      ]
    },
    {
      "cell_type": "markdown",
      "metadata": {
        "id": "4OGxLKfKFHte"
      },
      "source": [
        "# 3 Langmuir, Hinshelwood, and company\n",
        "Bob Davis and students (https://doi.org/10.1006/jcat.1999.2780) studied the reduction of nitrous oxide by carbon monoxide over a ceria-supported Rh catalyst. Following are rate data obtained at 543 K.\n",
        "\n",
        "| $P_{\\ce{CO}}$ (torr) | $P_{\\ce{N2O}}$ (torr) | TOF (s$^{-1}$) |\n",
        "|----------------------|-----------------------|------------------------|\n",
        "|         30.4         |          7.6          |         0.005          |\n",
        "|         30.4         |         15.2          |         0.0091         |\n",
        "|         30.4         |         30.4          |         0.018          |\n",
        "|         30.4         |         45.6          |         0.023          |\n",
        "|         30.4         |          76           |         0.036          |\n",
        "|         7.6          |         30.4          |         0.039          |\n",
        "|         15.2         |         30.4          |         0.024          |\n",
        "|         45.6         |         30.4          |         0.012          |\n",
        "|          76          |         30.4          |         0.0078         |"
      ]
    },
    {
      "cell_type": "markdown",
      "metadata": {
        "id": "W_cE4SP3FHtf"
      },
      "source": [
        "### 3.1 What is the apparent rate order with respect to $\\ce{CO}$? With respect to $\\ce{N2O}$?"
      ]
    },
    {
      "cell_type": "code",
      "execution_count": null,
      "metadata": {
        "id": "Ya1R8jemFHtf"
      },
      "outputs": [],
      "source": [
        "# Answer Here"
      ]
    },
    {
      "cell_type": "markdown",
      "metadata": {
        "id": "iRxcrgc-Me-d"
      },
      "source": [
        "\n",
        "rate order  = $$\\frac{\\partial ln(r)}{\\partial ln(P)} = \\alpha$$\n"
      ]
    },
    {
      "cell_type": "code",
      "execution_count": null,
      "metadata": {
        "colab": {
          "base_uri": "https://localhost:8080/",
          "height": 326
        },
        "id": "POUKgiL3NEuC",
        "outputId": "f9d0414a-552c-4efe-c776-e8b6f4cec54e"
      },
      "outputs": [
        {
          "data": {
            "image/png": "[encoded data removed]",
            "text/plain": [
              "<Figure size 432x288 with 1 Axes>"
            ]
          },
          "metadata": {
            "needs_background": "light"
          },
          "output_type": "display_data"
        },
        {
          "name": "stdout",
          "output_type": "stream",
          "text": [
            "Rate order of N2O is positive\n",
            "rate order of N2O is 0.8591286084841097\n"
          ]
        }
      ],
      "source": [
        "# Rate order of N2O, at constant pressure CO, plot ln(r) vs ln(PN2O)\n",
        "PN2O=np.array([7.6,15.2,30.4,45.6,76])\n",
        "TOF=np.array([0.005,0.0091,0.018,0.023,0.036])\n",
        "\n",
        "plt.scatter(np.log(PN2O),np.log(TOF))\n",
        "plt.xlabel(r'$In(PN2O)$',fontsize=20)\n",
        "plt.ylabel(r'$In(rate)$',fontsize=20)\n",
        "plt.show()\n",
        "print('Rate order of N2O is positive')\n",
        "\n",
        "fit = np.polyfit(np.log(PN2O),np.log(TOF),1)\n",
        "print('rate order of N2O is', fit[0])"
      ]
    },
    {
      "cell_type": "code",
      "execution_count": null,
      "metadata": {
        "colab": {
          "base_uri": "https://localhost:8080/",
          "height": 324
        },
        "id": "390m5bN2N7ic",
        "outputId": "3094fda5-673b-4ffc-f4f2-874d0c47fcec"
      },
      "outputs": [
        {
          "data": {
            "image/png": "[encoded data removed]",
            "text/plain": [
              "<Figure size 432x288 with 1 Axes>"
            ]
          },
          "metadata": {
            "needs_background": "light"
          },
          "output_type": "display_data"
        },
        {
          "name": "stdout",
          "output_type": "stream",
          "text": [
            "Rate order of CO is negative\n",
            "rate order of CO is -0.68536950338875\n"
          ]
        }
      ],
      "source": [
        "#  Rate order of CO\n",
        "PCO=np.array([7.6,15.2,45.6,76])\n",
        "TOF=np.array([0.039,0.024,0.012,0.0078])\n",
        "\n",
        "plt.scatter(np.log(PCO),np.log(TOF))\n",
        "plt.xlabel(r'$In(PCO)$',fontsize=20)\n",
        "plt.ylabel(r'$In(rate)$',fontsize=20)\n",
        "plt.show()\n",
        "print('Rate order of CO is negative')\n",
        "\n",
        "fit = np.polyfit(np.log(PCO),np.log(TOF),1)\n",
        "print('rate order of CO is', fit[0])"
      ]
    },
    {
      "cell_type": "markdown",
      "metadata": {
        "id": "BbF_TJrDFHtg"
      },
      "source": [
        "### 3.2 Following is a candidate mechanism. Derive a Langmuir-Hinshelwood rate expression assuming the first two reactions are quasi-equilibrated and the third reaction is rate-limiting.\n",
        "\n",
        "$\\ce{N2O + \\ast{} <=>[k_1][k_{-1}] N2O^\\ast}$ \\\n",
        "$\\ce{CO + \\ast{} <=>[k_2][k_{-2}] CO^\\ast}$ \\\n",
        "$\\ce{N2O^\\ast{} ->[k_3] N2 + O^\\ast}$ \\\n",
        "$\\ce{CO^\\ast{} + O^\\ast{} ->[k_4] CO2 }$"
      ]
    },
    {
      "cell_type": "code",
      "execution_count": null,
      "metadata": {
        "id": "1t6y4zFnFHtg"
      },
      "outputs": [],
      "source": [
        "# Answer Here"
      ]
    },
    {
      "cell_type": "markdown",
      "metadata": {
        "id": "lAP4LVSo2aX7"
      },
      "source": [
        "from reaction 1: \n",
        "$$r_{1} = k_{1}*P_{N2O}*\\theta_{*}$$\n",
        "$$r_{-1} = k_{-1}*\\theta_{N2O}$$\n",
        "\n",
        "and reaction 1 is quasi equilibrium, so, $r_{1}$ = $r_{-1}$ \\\n",
        "\n",
        "from reaction 2: \n",
        "$$r_{2} = k_{2}*P_{CO}*\\theta_{*}$$\n",
        "$$r_{-2} = k_{-2}*\\theta_{CO}$$\n",
        "\n",
        "and reaction 2 is quasi equilibrium, so, $r_{2}$ = $r_{-2}$ \\\n",
        "\n",
        "based on those equilibrium equation and another site balance, you can solve \n",
        "\n",
        "$$\\theta_{*} = \\frac{1}{K_{N2O}*P_{N2O}+K_{CO}*P_{CO}+1}$$ \\\n",
        "\n",
        "from reaction 3: \n",
        "$$r_{3} = k_{3}*\\theta_{N2O}$$ \\\n",
        "\n",
        "and from $r_{1}$ = $r_{-1}$, you can obtain relation between $\\theta_{N2O}$ with $\\theta_{*}$ \\\n",
        "\n",
        "\n",
        "and reaction 3 is rate-limiting step, you can express rate with reaction 3 using $\\theta_{*}$\n",
        "\n",
        "\n",
        "\n",
        "$$\n",
        "\\begin{align}\n",
        "rate = \\frac{k_{3}*K_{N2O}*P_{N2O}}{K_{N2O}*P_{N2O}+K_{CO}*P_{CO}+1}\n",
        "\\end{align}\n",
        "$$"
      ]
    },
    {
      "cell_type": "markdown",
      "metadata": {
        "id": "IwkrLMZEFHtg"
      },
      "source": [
        "### 3.3 Use the observed data and regression to estimate the rate parameters. (*Hint*: Linearize to estimate the rate parameters, and use these as guesses for non-linear regression.)"
      ]
    },
    {
      "cell_type": "code",
      "execution_count": null,
      "metadata": {
        "id": "vxW9r5fNFHtg"
      },
      "outputs": [],
      "source": [
        "# Answer Here"
      ]
    },
    {
      "cell_type": "code",
      "execution_count": null,
      "metadata": {
        "colab": {
          "base_uri": "https://localhost:8080/"
        },
        "id": "fUJh7IsS2fPb",
        "outputId": "7ffbd3a2-da0d-4b0a-a52a-e2c402b3664e"
      },
      "outputs": [
        {
          "name": "stdout",
          "output_type": "stream",
          "text": [
            "KN2O = 130.39104467332157\n",
            "KCO = 479.2638397342351\n",
            "k3 = 0.0816047447101732\n"
          ]
        }
      ],
      "source": [
        "torr_to_bar = 0.00133322 # convert unit torr to bar \n",
        "Pco = np.array([30.4,30.4,30.4,30.4,30.4,7.6,15.2,45.6,76])*torr_to_bar \n",
        "Pn2o = np.array([7.6,15.2,30.4,45.6,76,30.4,30.4,30.4,30.4])*torr_to_bar \n",
        "TOF=np.array([0.005,0.0091,0.018,0.023,0.036,0.039,0.024,0.012,0.0078])\n",
        "\n",
        "# To linearize, take reciprocal to rate expression in 3.2\n",
        "\n",
        "Rr=1/TOF\n",
        "\n",
        "def func(X, Kco, Kn2o, k3):\n",
        "    x,y = X\n",
        "    return (1/k3)+ (Kco/(k3*Kn2o))*x + (1/(k3*Kn2o))*y\n",
        "\n",
        "ratio=Pco/Pn2o\n",
        "rpn2o = 1/Pn2o\n",
        "\n",
        "popt, pcov = curve_fit(func,(ratio,rpn2o),Rr,maxfev=6000)\n",
        "\n",
        "print('KN2O =',popt[1])\n",
        "print('KCO =',popt[0])\n",
        "print('k3 =',popt[2])"
      ]
    },
    {
      "cell_type": "code",
      "execution_count": null,
      "metadata": {
        "colab": {
          "base_uri": "https://localhost:8080/"
        },
        "id": "8G5MCtzO2om2",
        "outputId": "1de49f4d-ef96-4e06-aff1-ffb2e4f28ea7"
      },
      "outputs": [
        {
          "name": "stdout",
          "output_type": "stream",
          "text": [
            "KN2O = 16.415666615916315\n",
            "KCO = 131.69838869168254\n",
            "k3 = 0.17222565397791414\n"
          ]
        }
      ],
      "source": [
        "# use above number as intial guess\n",
        "\n",
        "def func(X, Kco, Kn2o, k3):\n",
        "    x,y = X\n",
        "    return (k3*Kn2o*x)/(Kn2o*x+Kco*y+1)\n",
        "\n",
        "popt, pcov = curve_fit(func,(Pn2o,Pco),TOF,[popt[0],popt[1],popt[2]],maxfev=6000)\n",
        "\n",
        "print('KN2O =',popt[1])\n",
        "print('KCO =',popt[0])\n",
        "print('k3 =',popt[2])"
      ]
    },
    {
      "cell_type": "markdown",
      "metadata": {
        "id": "AiuaaLM5FHth"
      },
      "source": [
        "### 3.4 The reaction rate is observed to be Arrhenius over the temperature range 500 to 550 K with apparent activation energy 140 kJmol$^{-1}$. Can you rationalize this result with your model?"
      ]
    },
    {
      "cell_type": "code",
      "execution_count": null,
      "metadata": {
        "id": "8B_VT0aBFHth"
      },
      "outputs": [],
      "source": [
        "# Answer Here"
      ]
    },
    {
      "cell_type": "markdown",
      "metadata": {
        "id": "07CpzV5kRcRO"
      },
      "source": [
        "From rate expression in section 3.2, the denominator has combination of $P_{CO}$ and $P_{N2O}$ and 1, so it should not be perform arrhenius with temperature change. If reaction rate has arrhenius phenonema, then $P_{CO}$ should be dominante in denominator, follows the rate order of $P_{CO}$ is negative."
      ]
    },
    {
      "cell_type": "markdown",
      "metadata": {
        "id": "QWQvi_ocFHth"
      },
      "source": [
        "# 4 Peak performance\n",
        "Ammonia synthesis ($\\ce{N2 + 3 H2 <=> 2 NH3}$) is among the most important heterogeneous catalytic reactions and has been studied extensively. Mehta (https://doi.org/10.1021/acscatal.0c00684) following Grabow write a simple lumped model for the mechanism over a metal catalyst:\n",
        "\n",
        "| |        $E_a$ (eV)       | $\\Delta S^{\\circ\\ddagger}$ (J/mol K)  | $\\Delta E$ (eV) | $\\Delta S^\\circ$ (J/mol K)|\n",
        "|-|--------------------|-----------------------------|-------------|------------------|\n",
        "| $\\ce{N2 + 2\\ast{} <=> 2 N^\\ast{} }$       | $1.57 E_N + 1.56$  |          $-216.9$           |   $2 E_N$   |     $-216.9$     |\n",
        "| $\\ce{N^\\ast{} + 3/2 H2 <=> NH3 + \\ast{}}$ | $-0.39 E_N + 1.24$ |           $-5.6$            | $-0.55-E_N$ |      $-5.6$     \n",
        "\n",
        "The activation energies for both steps are related through a Bronsted-Evans-Polanyi relationship to the binding energy of N, $E_N$. Those relationships are shown above, alone with some entropy data at 1 bar standard state. Note $k_B$ = 8.6173$\\times$10$^{-5}$ eV/K."
      ]
    },
    {
      "cell_type": "markdown",
      "metadata": {
        "id": "-27DdU99FHti"
      },
      "source": [
        "### 4.1 Determine and plot the log rate per site (turnover frequency) at 700 K, 100 bar, and a stoichiometric mixture of $\\ce{N2}$ and $\\ce{H2}$ at 1% conversion, as a function of $E_N$ from -1.3 to 0 eV.  (*Hint*: First apply quasi-steady-state approximation to $\\theta_N$, then back solve for rate.)"
      ]
    },
    {
      "cell_type": "code",
      "execution_count": null,
      "metadata": {
        "id": "z7tW2wrfzUDO"
      },
      "outputs": [],
      "source": [
        "# Answer Here"
      ]
    },
    {
      "cell_type": "code",
      "execution_count": null,
      "metadata": {
        "colab": {
          "base_uri": "https://localhost:8080/"
        },
        "id": "3AOxyqSO2-ZF",
        "outputId": "d896006b-f83e-496a-a326-0babaa53ee3f"
      },
      "outputs": [
        {
          "name": "stdout",
          "output_type": "stream",
          "text": [
            "-----------------------------\n",
            "N2 Pressure = 24.87437185929648 bar\n",
            "H2 Pressure = 74.62311557788945 bar\n",
            "NH3 Pressure = 0.5025125628140703 bar\n"
          ]
        }
      ],
      "source": [
        "P = 100              # bar\n",
        "T = 700              # K\n",
        "kb = 8.6173*10**(-5) # unit(ev/k)\n",
        "h = 6.582*10**(-16)  # unit(ev*s)\n",
        "\n",
        "# 1 assume initial N2 = 1 mole, H2 = 3 mole\n",
        "# 2 at 1% conversion, N2 = 0.99 mole, H2 = 2.97 mole, NH3 = 0.02 mole\n",
        "\n",
        "tot=0.99+2.97+0.02\n",
        "\n",
        "PN2 = P*(0.99/tot)\n",
        "PH2 = P*(2.97/tot)\n",
        "PNH3 = P*(0.02/tot)\n",
        "print('-----------------------------')\n",
        "print('N2 Pressure =',PN2,'bar')\n",
        "print('H2 Pressure =',PH2,'bar')\n",
        "print('NH3 Pressure =',PNH3,'bar')"
      ]
    },
    {
      "cell_type": "code",
      "execution_count": null,
      "metadata": {
        "id": "8d1HrQGR3D3P"
      },
      "outputs": [],
      "source": [
        "# now let's compute rate constant for reaction\n",
        "\n",
        "EN = np.arange(-1.3,0,0.01)\n",
        "\n",
        "# for reaction 1: N2+2*-->2N*\n",
        "\n",
        "delS1_dag = -216.9/96490   #convert to ev/K, 1eV = 96.49kj/mole.\n",
        "\n",
        "k1f = np.zeros(len(EN))\n",
        "\n",
        "for i in range(len(EN)):\n",
        "    \n",
        "    Ea1 = 1.57*EN[i] + 1.56\n",
        "\n",
        "    if Ea1<=0:\n",
        "        delG1_dag = 0-T*delS1_dag\n",
        "        k1f[i] = (kb*T/h)*np.exp(-1*delG1_dag/(kb*T))\n",
        "\n",
        "    if Ea1>0:\n",
        "        delG1_dag = Ea1-T*delS1_dag\n",
        "        k1f[i] = (kb*T/h)*np.exp(-1*delG1_dag/(kb*T))\n",
        "\n",
        "delG10 = 2*EN - T*delS1_dag\n",
        "K1 = np.exp(-1*delG10/(kb*T))\n",
        "\n",
        "# k-1 = k1/K1\n",
        "k1r = k1f/K1"
      ]
    },
    {
      "cell_type": "code",
      "execution_count": null,
      "metadata": {
        "id": "tIRRtQCr3D9X"
      },
      "outputs": [],
      "source": [
        "# for reaction 2: N* + (3/2) H2 --> NH3 + *\n",
        "\n",
        "delS2_dag = -5.6/96490   #convert to ev/K, 1eV = 96.49kj/mole.\n",
        "\n",
        "k2f = np.zeros(len(EN))\n",
        "\n",
        "for i in range(len(EN)):\n",
        "    \n",
        "    Ea2 = -0.39*EN[i] + 1.24\n",
        "    \n",
        "    if Ea2<0:\n",
        "        delG2_dag = 0-T*delS2_dag\n",
        "        k2f[i] = (kb*T/h)*np.exp(-1*delG2_dag/(kb*T))\n",
        "\n",
        "    if Ea2>0:\n",
        "        delG2_dag = Ea2-T*delS2_dag\n",
        "        k2f[i] = (kb*T/h)*np.exp(-1*delG2_dag/(kb*T))\n",
        "\n",
        "delG20 = (-0.55-EN) - T*delS2_dag\n",
        "\n",
        "K2 = np.exp(-1*delG20/(kb*T))\n",
        "\n",
        "# k-2 = k2/K2\n",
        "k2r = k2f/K2"
      ]
    },
    {
      "cell_type": "code",
      "execution_count": null,
      "metadata": {
        "id": "uiHdvL7N3D_3"
      },
      "outputs": [],
      "source": [
        "def thetaN(x):\n",
        "  a = (2*k1f*PN2) - 2*k1r\n",
        "  b = (-4*k1f*PN2)-(k2f*PH2**1.5)-(k2r*PNH3)\n",
        "  c = (2*k1f*PN2) + k2r*PNH3\n",
        "  return a*x**2+b*x+c"
      ]
    },
    {
      "cell_type": "code",
      "execution_count": null,
      "metadata": {
        "colab": {
          "base_uri": "https://localhost:8080/",
          "height": 308
        },
        "id": "9fohnXET3Zj2",
        "outputId": "32e13283-65dd-43f5-b784-1d24a61f1833"
      },
      "outputs": [
        {
          "data": {
            "text/plain": [
              "Text(0, 0.5, '$In(rate)$')"
            ]
          },
          "execution_count": 20,
          "metadata": {},
          "output_type": "execute_result"
        },
        {
          "data": {
            "image/png": "[encoded data removed]",
            "text/plain": [
              "<Figure size 432x288 with 1 Axes>"
            ]
          },
          "metadata": {
            "needs_background": "light"
          },
          "output_type": "display_data"
        }
      ],
      "source": [
        "from scipy.optimize import fsolve\n",
        "\n",
        "THETA = fsolve(thetaN, np.zeros(len(EN)))\n",
        "\n",
        "rate = (k2f*THETA*PH2**1.5) - k2r*PNH3*(1-THETA)\n",
        "\n",
        "plt.plot(EN,np.log(rate))\n",
        "plt.xlabel(r'$BE_{N}$',fontsize=20)\n",
        "plt.ylabel(r'$In(rate)$',fontsize=20)"
      ]
    },
    {
      "cell_type": "markdown",
      "metadata": {
        "id": "FhC6TvSmzUDO"
      },
      "source": [
        "### 4.2 Typical catalysis Fe and Ru have binding energies -1.2 and -0.5 eV.  Can you see why these are useful catalysts?"
      ]
    },
    {
      "cell_type": "code",
      "execution_count": null,
      "metadata": {
        "id": "WAlR4_EQFHti"
      },
      "outputs": [],
      "source": [
        "# Answer Here"
      ]
    },
    {
      "cell_type": "markdown",
      "metadata": {
        "id": "LwnkRiRy31PC"
      },
      "source": [
        "Fe has -1.2 eV which is close to sabatier optimal area with higher rate.\\\n",
        "Ru has -0.5 eV which is not close to optimal area because there are only 2 reaction steps, but paper has multiple reaction steps."
      ]
    }
  ],
  "metadata": {
    "colab": {
      "collapsed_sections": [],
      "name": "HW5-F21-soln.ipynb",
      "provenance": []
    },
    "kernelspec": {
      "display_name": "Python 3 (ipykernel)",
      "language": "python",
      "name": "python3"
    },
    "language_info": {
      "codemirror_mode": {
        "name": "ipython",
        "version": 3
      },
      "file_extension": ".py",
      "mimetype": "text/x-python",
      "name": "python",
      "nbconvert_exporter": "python",
      "pygments_lexer": "ipython3",
      "version": "3.9.7"
    }
  },
  "nbformat": 4,
  "nbformat_minor": 0
}